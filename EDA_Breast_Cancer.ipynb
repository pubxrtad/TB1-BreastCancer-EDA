{
 "cells": [
  {
   "cell_type": "markdown",
   "id": "aa8d326b",
   "metadata": {},
   "source": [
    "# EDA - Breast Cancer Wisconsin (Diagnostic)\n",
    "\n",
    "Notebook de trabajo para TB1: Comprensión de datos.\n"
   ]
  },
  {
   "cell_type": "code",
   "execution_count": null,
   "id": "6fbb36a6",
   "metadata": {},
   "outputs": [],
   "source": [
    "# Imports\n",
    "import pandas as pd\n",
    "import numpy as np\n",
    "import matplotlib.pyplot as plt\n",
    "\n",
    "# Cargar dataset\n",
    "df = pd.read_csv(r\"/mnt/data/breast_cancer_project/data/breast_cancer_wisconsin.csv\")\n",
    "df.head()\n"
   ]
  },
  {
   "cell_type": "markdown",
   "id": "1e97ce2b",
   "metadata": {},
   "source": [
    "## Vista rápida del dataset"
   ]
  },
  {
   "cell_type": "code",
   "execution_count": null,
   "id": "64af7ead",
   "metadata": {},
   "outputs": [],
   "source": [
    "print('Shape:', df.shape)\n",
    "print('\\nDtypes:')\n",
    "print(df.dtypes)"
   ]
  },
  {
   "cell_type": "markdown",
   "id": "703184b3",
   "metadata": {},
   "source": [
    "## Estadísticas descriptivas"
   ]
  },
  {
   "cell_type": "code",
   "execution_count": null,
   "id": "9048ac71",
   "metadata": {},
   "outputs": [],
   "source": [
    "df.describe().T"
   ]
  },
  {
   "cell_type": "markdown",
   "id": "629ebc8f",
   "metadata": {},
   "source": [
    "### Distribución de la variable objetivo (Diagnosis)"
   ]
  },
  {
   "cell_type": "code",
   "execution_count": null,
   "id": "29a7c78e",
   "metadata": {},
   "outputs": [],
   "source": [
    "df['target'].value_counts()"
   ]
  },
  {
   "cell_type": "markdown",
   "id": "090b3578",
   "metadata": {},
   "source": [
    "## Valores faltantes y duplicados"
   ]
  },
  {
   "cell_type": "code",
   "execution_count": null,
   "id": "dd080287",
   "metadata": {},
   "outputs": [],
   "source": [
    "print(df.isnull().sum())\n",
    "print('Duplicados:', df.duplicated().sum())"
   ]
  },
  {
   "cell_type": "markdown",
   "id": "42f1df39",
   "metadata": {},
   "source": [
    "## Detección de outliers (IQR) para: 'mean radius', 'mean area', 'mean concavity'"
   ]
  },
  {
   "cell_type": "code",
   "execution_count": null,
   "id": "f5602842",
   "metadata": {},
   "outputs": [],
   "source": [
    "def detect_outliers_iqr(series):\n",
    "    q1 = series.quantile(0.25)\n",
    "    q3 = series.quantile(0.75)\n",
    "    iqr = q3 - q1\n",
    "    lower = q1 - 1.5 * iqr\n",
    "    upper = q3 + 1.5 * iqr\n",
    "    return ((series < lower) | (series > upper)).sum(), lower, upper\n",
    "\n",
    "for col in ['mean radius','mean area','mean concavity']:\n",
    "    count, lower, upper = detect_outliers_iqr(df[col])\n",
    "    print(f\"{col}: outliers={count}, lower={lower:.3f}, upper={upper:.3f}\")\n"
   ]
  },
  {
   "cell_type": "markdown",
   "id": "b33f230f",
   "metadata": {},
   "source": [
    "## Visualizaciones principales"
   ]
  },
  {
   "cell_type": "code",
   "execution_count": null,
   "id": "3d14a290",
   "metadata": {},
   "outputs": [],
   "source": [
    "# 1) Histograma de mean radius por target\n",
    "plt.figure()\n",
    "df[df['target']==0]['mean radius'].hist(bins=20, alpha=0.7)\n",
    "df[df['target']==1]['mean radius'].hist(bins=20, alpha=0.7)\n",
    "plt.title('Histograma de mean radius por diagnóstico (0=maligno,1=benigno)')\n",
    "plt.xlabel('mean radius')\n",
    "plt.ylabel('Frecuencia')\n",
    "plt.legend(['0 (maligno)','1 (benigno)'])\n",
    "plt.tight_layout()\n",
    "plt.savefig(r\"/mnt/data/breast_cancer_project/figures/hist_mean_radius.png\")\n",
    "plt.show()\n",
    "\n",
    "# 2) Scatter mean perimeter vs mean area por target\n",
    "plt.figure()\n",
    "for t in df['target'].unique():\n",
    "    subset = df[df['target']==t]\n",
    "    plt.scatter(subset['mean perimeter'], subset['mean area'], label=str(t), s=10)\n",
    "plt.xlabel('mean perimeter')\n",
    "plt.ylabel('mean area')\n",
    "plt.title('mean perimeter vs mean area por diagnóstico')\n",
    "plt.legend(title='target')\n",
    "plt.tight_layout()\n",
    "plt.savefig(r\"/mnt/data/breast_cancer_project/figures/scatter_perimeter_area.png\")\n",
    "plt.show()\n",
    "\n",
    "# 3) Boxplot mean concavity por target\n",
    "plt.figure()\n",
    "data0 = df[df['target']==0]['mean concavity']\n",
    "data1 = df[df['target']==1]['mean concavity']\n",
    "plt.boxplot([data0, data1], labels=['0 (maligno)','1 (benigno)'])\n",
    "plt.title('Boxplot de mean concavity por diagnóstico')\n",
    "plt.tight_layout()\n",
    "plt.savefig(r\"/mnt/data/breast_cancer_project/figures/box_mean_concavity.png\")\n",
    "plt.show()\n"
   ]
  },
  {
   "cell_type": "markdown",
   "id": "ecfde1ef",
   "metadata": {},
   "source": [
    "## Comentarios y decisiones sugeridas\n",
    "- Imputación por mediana para faltantes (si existieran).\n",
    "- Duplicados: eliminar si son réplicas.\n",
    "- Outliers: revisar mediciones y considerar winsorización o modelos robustos.\n"
   ]
  }
 ],
 "metadata": {},
 "nbformat": 4,
 "nbformat_minor": 5
}
